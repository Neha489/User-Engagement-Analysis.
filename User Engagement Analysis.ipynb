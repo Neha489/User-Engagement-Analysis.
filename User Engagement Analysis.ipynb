{
 "cells": [
  {
   "cell_type": "code",
   "execution_count": 1,
   "id": "83db4890",
   "metadata": {},
   "outputs": [],
   "source": [
    "#Import libraries\n",
    "import numpy as np\n",
    "import pandas as pd\n",
    "import matplotlib.pyplot as plt"
   ]
  },
  {
   "cell_type": "code",
   "execution_count": 2,
   "id": "5e4af2b8",
   "metadata": {},
   "outputs": [
    {
     "data": {
      "text/html": [
       "<div>\n",
       "<style scoped>\n",
       "    .dataframe tbody tr th:only-of-type {\n",
       "        vertical-align: middle;\n",
       "    }\n",
       "\n",
       "    .dataframe tbody tr th {\n",
       "        vertical-align: top;\n",
       "    }\n",
       "\n",
       "    .dataframe thead th {\n",
       "        text-align: right;\n",
       "    }\n",
       "</style>\n",
       "<table border=\"1\" class=\"dataframe\">\n",
       "  <thead>\n",
       "    <tr style=\"text-align: right;\">\n",
       "      <th></th>\n",
       "      <th>event</th>\n",
       "      <th>date</th>\n",
       "      <th>country</th>\n",
       "      <th>city</th>\n",
       "      <th>artist</th>\n",
       "      <th>album</th>\n",
       "      <th>track</th>\n",
       "      <th>isrc</th>\n",
       "      <th>linkid</th>\n",
       "    </tr>\n",
       "  </thead>\n",
       "  <tbody>\n",
       "    <tr>\n",
       "      <th>177657</th>\n",
       "      <td>pageview</td>\n",
       "      <td>2021-08-21</td>\n",
       "      <td>Portugal</td>\n",
       "      <td>Lagos</td>\n",
       "      <td>Billie Eilish</td>\n",
       "      <td>Lost Cause</td>\n",
       "      <td>Lost Cause</td>\n",
       "      <td>USUM72105929</td>\n",
       "      <td>33fbbe3c-c497-446e-a849-f9fc29b60701</td>\n",
       "    </tr>\n",
       "    <tr>\n",
       "      <th>40173</th>\n",
       "      <td>click</td>\n",
       "      <td>2021-08-23</td>\n",
       "      <td>Saudi Arabia</td>\n",
       "      <td>Khamis Mushait</td>\n",
       "      <td>Anne-Marie</td>\n",
       "      <td>Beautiful</td>\n",
       "      <td>Beautiful</td>\n",
       "      <td>GBAHS2100225</td>\n",
       "      <td>522da5cc-8177-4140-97a7-a84fdb4caf1c</td>\n",
       "    </tr>\n",
       "    <tr>\n",
       "      <th>216925</th>\n",
       "      <td>pageview</td>\n",
       "      <td>2021-08-20</td>\n",
       "      <td>Germany</td>\n",
       "      <td>Schifferstadt</td>\n",
       "      <td>50 Cent, Olivia</td>\n",
       "      <td>The Massacre</td>\n",
       "      <td>Candy Shop</td>\n",
       "      <td>USIR10500072</td>\n",
       "      <td>97105aff-3e40-4c2e-bfeb-563b55e8f5dd</td>\n",
       "    </tr>\n",
       "    <tr>\n",
       "      <th>145076</th>\n",
       "      <td>pageview</td>\n",
       "      <td>2021-08-23</td>\n",
       "      <td>India</td>\n",
       "      <td>Lucknow</td>\n",
       "      <td>PinkPantheress</td>\n",
       "      <td>Just for me</td>\n",
       "      <td>Just for me</td>\n",
       "      <td>GBAYE2101058</td>\n",
       "      <td>e2e39afa-648b-4163-97b0-ce742ea67550</td>\n",
       "    </tr>\n",
       "    <tr>\n",
       "      <th>15050</th>\n",
       "      <td>click</td>\n",
       "      <td>2021-08-21</td>\n",
       "      <td>United States</td>\n",
       "      <td>Hollywood</td>\n",
       "      <td>Kayla Nicole, Taylor Girlz, Flo Milli</td>\n",
       "      <td>Bundles 2 (feat. Flo Milli, Taylor Girlz)</td>\n",
       "      <td>Bundles 2 (feat. Flo Milli, Taylor Girlz)</td>\n",
       "      <td>QMCE32100359</td>\n",
       "      <td>fbf4b935-f961-4b13-b1d8-45ad47093559</td>\n",
       "    </tr>\n",
       "    <tr>\n",
       "      <th>124801</th>\n",
       "      <td>pageview</td>\n",
       "      <td>2021-08-20</td>\n",
       "      <td>India</td>\n",
       "      <td>Mangalore</td>\n",
       "      <td>Loren Gray</td>\n",
       "      <td>Piece of Work</td>\n",
       "      <td>Piece of Work</td>\n",
       "      <td>QM24S2103535</td>\n",
       "      <td>c89d0bb7-fdd0-4bda-a770-3abd16b45f2e</td>\n",
       "    </tr>\n",
       "    <tr>\n",
       "      <th>195112</th>\n",
       "      <td>pageview</td>\n",
       "      <td>2021-08-23</td>\n",
       "      <td>United States</td>\n",
       "      <td>Unknown</td>\n",
       "      <td>Feid</td>\n",
       "      <td>INTER SHIBUYA - LA MAFIA</td>\n",
       "      <td>SI TÚ SUPIERAS - Bonus Track</td>\n",
       "      <td>USUM72113045</td>\n",
       "      <td>be1e9dcb-6a7e-4e9b-ba75-0c52f551e55b</td>\n",
       "    </tr>\n",
       "    <tr>\n",
       "      <th>120199</th>\n",
       "      <td>pageview</td>\n",
       "      <td>2021-08-25</td>\n",
       "      <td>France</td>\n",
       "      <td>Paris</td>\n",
       "      <td>Justin Quiles, Chimbala, Zion &amp; Lennox</td>\n",
       "      <td>Loco</td>\n",
       "      <td>Loco</td>\n",
       "      <td>USWL12100223</td>\n",
       "      <td>6ec91846-dae0-448e-8afe-a775547c0fad</td>\n",
       "    </tr>\n",
       "    <tr>\n",
       "      <th>9778</th>\n",
       "      <td>click</td>\n",
       "      <td>2021-08-24</td>\n",
       "      <td>Saudi Arabia</td>\n",
       "      <td>Riyadh</td>\n",
       "      <td>Tesher</td>\n",
       "      <td>Jalebi Baby</td>\n",
       "      <td>Jalebi Baby</td>\n",
       "      <td>QZNWQ2070741</td>\n",
       "      <td>2d896d31-97b6-4869-967b-1c5fb9cd4bb8</td>\n",
       "    </tr>\n",
       "    <tr>\n",
       "      <th>124012</th>\n",
       "      <td>pageview</td>\n",
       "      <td>2021-08-19</td>\n",
       "      <td>Australia</td>\n",
       "      <td>Unknown</td>\n",
       "      <td>DMX</td>\n",
       "      <td>The Definition of X: Pick Of The Litter</td>\n",
       "      <td>X Gon' Give It To Ya</td>\n",
       "      <td>USDJ20201374</td>\n",
       "      <td>bbab0036-2343-4717-8ae7-595bcb79c0e7</td>\n",
       "    </tr>\n",
       "    <tr>\n",
       "      <th>49970</th>\n",
       "      <td>click</td>\n",
       "      <td>2021-08-24</td>\n",
       "      <td>India</td>\n",
       "      <td>Bhopal</td>\n",
       "      <td>piri, Tommy Villiers</td>\n",
       "      <td>soft spot</td>\n",
       "      <td>soft spot</td>\n",
       "      <td>QZHN52145683</td>\n",
       "      <td>b4e48c51-87d6-4ed2-bdfb-9604450dd673</td>\n",
       "    </tr>\n",
       "    <tr>\n",
       "      <th>146830</th>\n",
       "      <td>pageview</td>\n",
       "      <td>2021-08-21</td>\n",
       "      <td>India</td>\n",
       "      <td>Hyderabad</td>\n",
       "      <td>Tesher</td>\n",
       "      <td>Jalebi Baby</td>\n",
       "      <td>Jalebi Baby</td>\n",
       "      <td>QZNWQ2070741</td>\n",
       "      <td>2d896d31-97b6-4869-967b-1c5fb9cd4bb8</td>\n",
       "    </tr>\n",
       "    <tr>\n",
       "      <th>82151</th>\n",
       "      <td>preview</td>\n",
       "      <td>2021-08-23</td>\n",
       "      <td>Saudi Arabia</td>\n",
       "      <td>Jeddah</td>\n",
       "      <td>Tundra Beats</td>\n",
       "      <td>Beautiful Day</td>\n",
       "      <td>Beautiful Day</td>\n",
       "      <td>QZHN92194591</td>\n",
       "      <td>e849515b-929d-44c8-a505-e7622f1827e9</td>\n",
       "    </tr>\n",
       "    <tr>\n",
       "      <th>22132</th>\n",
       "      <td>click</td>\n",
       "      <td>2021-08-19</td>\n",
       "      <td>Saudi Arabia</td>\n",
       "      <td>Riyadh</td>\n",
       "      <td>Hoàng Read</td>\n",
       "      <td>The Magic Bomb</td>\n",
       "      <td>The Magic Bomb - Extended Mix</td>\n",
       "      <td>FR59R2143389</td>\n",
       "      <td>8f990f44-6a5d-4294-ab0b-f74e0a8f3b25</td>\n",
       "    </tr>\n",
       "    <tr>\n",
       "      <th>16024</th>\n",
       "      <td>click</td>\n",
       "      <td>2021-08-23</td>\n",
       "      <td>Saudi Arabia</td>\n",
       "      <td>Jeddah</td>\n",
       "      <td>Tesher</td>\n",
       "      <td>Jalebi Baby</td>\n",
       "      <td>Jalebi Baby</td>\n",
       "      <td>QZNWQ2070741</td>\n",
       "      <td>2d896d31-97b6-4869-967b-1c5fb9cd4bb8</td>\n",
       "    </tr>\n",
       "  </tbody>\n",
       "</table>\n",
       "</div>"
      ],
      "text/plain": [
       "           event        date        country            city  \\\n",
       "177657  pageview  2021-08-21       Portugal           Lagos   \n",
       "40173      click  2021-08-23   Saudi Arabia  Khamis Mushait   \n",
       "216925  pageview  2021-08-20        Germany   Schifferstadt   \n",
       "145076  pageview  2021-08-23          India         Lucknow   \n",
       "15050      click  2021-08-21  United States       Hollywood   \n",
       "124801  pageview  2021-08-20          India       Mangalore   \n",
       "195112  pageview  2021-08-23  United States         Unknown   \n",
       "120199  pageview  2021-08-25         France           Paris   \n",
       "9778       click  2021-08-24   Saudi Arabia          Riyadh   \n",
       "124012  pageview  2021-08-19      Australia         Unknown   \n",
       "49970      click  2021-08-24          India          Bhopal   \n",
       "146830  pageview  2021-08-21          India       Hyderabad   \n",
       "82151    preview  2021-08-23   Saudi Arabia          Jeddah   \n",
       "22132      click  2021-08-19   Saudi Arabia          Riyadh   \n",
       "16024      click  2021-08-23   Saudi Arabia          Jeddah   \n",
       "\n",
       "                                        artist  \\\n",
       "177657                           Billie Eilish   \n",
       "40173                               Anne-Marie   \n",
       "216925                         50 Cent, Olivia   \n",
       "145076                          PinkPantheress   \n",
       "15050    Kayla Nicole, Taylor Girlz, Flo Milli   \n",
       "124801                              Loren Gray   \n",
       "195112                                    Feid   \n",
       "120199  Justin Quiles, Chimbala, Zion & Lennox   \n",
       "9778                                    Tesher   \n",
       "124012                                     DMX   \n",
       "49970                     piri, Tommy Villiers   \n",
       "146830                                  Tesher   \n",
       "82151                             Tundra Beats   \n",
       "22132                               Hoàng Read   \n",
       "16024                                   Tesher   \n",
       "\n",
       "                                            album  \\\n",
       "177657                                 Lost Cause   \n",
       "40173                                   Beautiful   \n",
       "216925                               The Massacre   \n",
       "145076                                Just for me   \n",
       "15050   Bundles 2 (feat. Flo Milli, Taylor Girlz)   \n",
       "124801                              Piece of Work   \n",
       "195112                   INTER SHIBUYA - LA MAFIA   \n",
       "120199                                       Loco   \n",
       "9778                                  Jalebi Baby   \n",
       "124012    The Definition of X: Pick Of The Litter   \n",
       "49970                                   soft spot   \n",
       "146830                                Jalebi Baby   \n",
       "82151                               Beautiful Day   \n",
       "22132                              The Magic Bomb   \n",
       "16024                                 Jalebi Baby   \n",
       "\n",
       "                                            track          isrc  \\\n",
       "177657                                 Lost Cause  USUM72105929   \n",
       "40173                                   Beautiful  GBAHS2100225   \n",
       "216925                                 Candy Shop  USIR10500072   \n",
       "145076                                Just for me  GBAYE2101058   \n",
       "15050   Bundles 2 (feat. Flo Milli, Taylor Girlz)  QMCE32100359   \n",
       "124801                              Piece of Work  QM24S2103535   \n",
       "195112               SI TÚ SUPIERAS - Bonus Track  USUM72113045   \n",
       "120199                                       Loco  USWL12100223   \n",
       "9778                                  Jalebi Baby  QZNWQ2070741   \n",
       "124012                       X Gon' Give It To Ya  USDJ20201374   \n",
       "49970                                   soft spot  QZHN52145683   \n",
       "146830                                Jalebi Baby  QZNWQ2070741   \n",
       "82151                               Beautiful Day  QZHN92194591   \n",
       "22132               The Magic Bomb - Extended Mix  FR59R2143389   \n",
       "16024                                 Jalebi Baby  QZNWQ2070741   \n",
       "\n",
       "                                      linkid  \n",
       "177657  33fbbe3c-c497-446e-a849-f9fc29b60701  \n",
       "40173   522da5cc-8177-4140-97a7-a84fdb4caf1c  \n",
       "216925  97105aff-3e40-4c2e-bfeb-563b55e8f5dd  \n",
       "145076  e2e39afa-648b-4163-97b0-ce742ea67550  \n",
       "15050   fbf4b935-f961-4b13-b1d8-45ad47093559  \n",
       "124801  c89d0bb7-fdd0-4bda-a770-3abd16b45f2e  \n",
       "195112  be1e9dcb-6a7e-4e9b-ba75-0c52f551e55b  \n",
       "120199  6ec91846-dae0-448e-8afe-a775547c0fad  \n",
       "9778    2d896d31-97b6-4869-967b-1c5fb9cd4bb8  \n",
       "124012  bbab0036-2343-4717-8ae7-595bcb79c0e7  \n",
       "49970   b4e48c51-87d6-4ed2-bdfb-9604450dd673  \n",
       "146830  2d896d31-97b6-4869-967b-1c5fb9cd4bb8  \n",
       "82151   e849515b-929d-44c8-a505-e7622f1827e9  \n",
       "22132   8f990f44-6a5d-4294-ab0b-f74e0a8f3b25  \n",
       "16024   2d896d31-97b6-4869-967b-1c5fb9cd4bb8  "
      ]
     },
     "execution_count": 2,
     "metadata": {},
     "output_type": "execute_result"
    }
   ],
   "source": [
    "#Import dataset\n",
    "df = pd.read_csv(\"traffic.csv\")\n",
    "df.sample(15)"
   ]
  },
  {
   "cell_type": "code",
   "execution_count": 3,
   "id": "de611792",
   "metadata": {},
   "outputs": [
    {
     "data": {
      "text/plain": [
       "(226278, 9)"
      ]
     },
     "execution_count": 3,
     "metadata": {},
     "output_type": "execute_result"
    }
   ],
   "source": [
    "df.shape"
   ]
  },
  {
   "cell_type": "code",
   "execution_count": 4,
   "id": "7a700cab",
   "metadata": {},
   "outputs": [
    {
     "data": {
      "text/plain": [
       "Index(['event', 'date', 'country', 'city', 'artist', 'album', 'track', 'isrc',\n",
       "       'linkid'],\n",
       "      dtype='object')"
      ]
     },
     "execution_count": 4,
     "metadata": {},
     "output_type": "execute_result"
    }
   ],
   "source": [
    "df.columns"
   ]
  },
  {
   "cell_type": "code",
   "execution_count": 5,
   "id": "726454e4",
   "metadata": {},
   "outputs": [
    {
     "name": "stdout",
     "output_type": "stream",
     "text": [
      "<class 'pandas.core.frame.DataFrame'>\n",
      "RangeIndex: 226278 entries, 0 to 226277\n",
      "Data columns (total 9 columns):\n",
      " #   Column   Non-Null Count   Dtype \n",
      "---  ------   --------------   ----- \n",
      " 0   event    226278 non-null  object\n",
      " 1   date     226278 non-null  object\n",
      " 2   country  226267 non-null  object\n",
      " 3   city     226267 non-null  object\n",
      " 4   artist   226241 non-null  object\n",
      " 5   album    226273 non-null  object\n",
      " 6   track    226273 non-null  object\n",
      " 7   isrc     219157 non-null  object\n",
      " 8   linkid   226278 non-null  object\n",
      "dtypes: object(9)\n",
      "memory usage: 15.5+ MB\n"
     ]
    }
   ],
   "source": [
    "df.info()"
   ]
  },
  {
   "cell_type": "code",
   "execution_count": 6,
   "id": "bf86a121",
   "metadata": {},
   "outputs": [
    {
     "data": {
      "text/html": [
       "<div>\n",
       "<style scoped>\n",
       "    .dataframe tbody tr th:only-of-type {\n",
       "        vertical-align: middle;\n",
       "    }\n",
       "\n",
       "    .dataframe tbody tr th {\n",
       "        vertical-align: top;\n",
       "    }\n",
       "\n",
       "    .dataframe thead th {\n",
       "        text-align: right;\n",
       "    }\n",
       "</style>\n",
       "<table border=\"1\" class=\"dataframe\">\n",
       "  <thead>\n",
       "    <tr style=\"text-align: right;\">\n",
       "      <th></th>\n",
       "      <th>event</th>\n",
       "      <th>date</th>\n",
       "      <th>country</th>\n",
       "      <th>city</th>\n",
       "      <th>artist</th>\n",
       "      <th>album</th>\n",
       "      <th>track</th>\n",
       "      <th>isrc</th>\n",
       "      <th>linkid</th>\n",
       "    </tr>\n",
       "  </thead>\n",
       "  <tbody>\n",
       "    <tr>\n",
       "      <th>count</th>\n",
       "      <td>226278</td>\n",
       "      <td>226278</td>\n",
       "      <td>226267</td>\n",
       "      <td>226267</td>\n",
       "      <td>226241</td>\n",
       "      <td>226273</td>\n",
       "      <td>226273</td>\n",
       "      <td>219157</td>\n",
       "      <td>226278</td>\n",
       "    </tr>\n",
       "    <tr>\n",
       "      <th>unique</th>\n",
       "      <td>3</td>\n",
       "      <td>7</td>\n",
       "      <td>211</td>\n",
       "      <td>11993</td>\n",
       "      <td>2419</td>\n",
       "      <td>3254</td>\n",
       "      <td>3562</td>\n",
       "      <td>709</td>\n",
       "      <td>3839</td>\n",
       "    </tr>\n",
       "    <tr>\n",
       "      <th>top</th>\n",
       "      <td>pageview</td>\n",
       "      <td>2021-08-19</td>\n",
       "      <td>Saudi Arabia</td>\n",
       "      <td>Jeddah</td>\n",
       "      <td>Tesher</td>\n",
       "      <td>Jalebi Baby</td>\n",
       "      <td>Jalebi Baby</td>\n",
       "      <td>QZNWQ2070741</td>\n",
       "      <td>2d896d31-97b6-4869-967b-1c5fb9cd4bb8</td>\n",
       "    </tr>\n",
       "    <tr>\n",
       "      <th>freq</th>\n",
       "      <td>142015</td>\n",
       "      <td>35361</td>\n",
       "      <td>47334</td>\n",
       "      <td>22791</td>\n",
       "      <td>40841</td>\n",
       "      <td>40841</td>\n",
       "      <td>40841</td>\n",
       "      <td>40841</td>\n",
       "      <td>40841</td>\n",
       "    </tr>\n",
       "  </tbody>\n",
       "</table>\n",
       "</div>"
      ],
      "text/plain": [
       "           event        date       country    city  artist        album  \\\n",
       "count     226278      226278        226267  226267  226241       226273   \n",
       "unique         3           7           211   11993    2419         3254   \n",
       "top     pageview  2021-08-19  Saudi Arabia  Jeddah  Tesher  Jalebi Baby   \n",
       "freq      142015       35361         47334   22791   40841        40841   \n",
       "\n",
       "              track          isrc                                linkid  \n",
       "count        226273        219157                                226278  \n",
       "unique         3562           709                                  3839  \n",
       "top     Jalebi Baby  QZNWQ2070741  2d896d31-97b6-4869-967b-1c5fb9cd4bb8  \n",
       "freq          40841         40841                                 40841  "
      ]
     },
     "execution_count": 6,
     "metadata": {},
     "output_type": "execute_result"
    }
   ],
   "source": [
    "df.describe()"
   ]
  },
  {
   "cell_type": "code",
   "execution_count": 7,
   "id": "0130e95a",
   "metadata": {},
   "outputs": [
    {
     "data": {
      "text/plain": [
       "pageview    142015\n",
       "click        55732\n",
       "preview      28531\n",
       "Name: event, dtype: int64"
      ]
     },
     "execution_count": 7,
     "metadata": {},
     "output_type": "execute_result"
    }
   ],
   "source": [
    "df['event'].value_counts()"
   ]
  },
  {
   "cell_type": "code",
   "execution_count": 8,
   "id": "a9fc7256",
   "metadata": {},
   "outputs": [
    {
     "data": {
      "text/plain": [
       "226278"
      ]
     },
     "execution_count": 8,
     "metadata": {},
     "output_type": "execute_result"
    }
   ],
   "source": [
    "# Calculate the total number of pageview events\n",
    "total_pageviews = df.shape[0]\n",
    "total_pageviews"
   ]
  },
  {
   "cell_type": "code",
   "execution_count": 9,
   "id": "5518e39c",
   "metadata": {},
   "outputs": [
    {
     "data": {
      "text/plain": [
       "7"
      ]
     },
     "execution_count": 9,
     "metadata": {},
     "output_type": "execute_result"
    }
   ],
   "source": [
    "# Calculate the total number of unique dates\n",
    "unique_dates = df['date'].nunique()\n",
    "unique_dates"
   ]
  },
  {
   "cell_type": "code",
   "execution_count": 10,
   "id": "be833c13",
   "metadata": {},
   "outputs": [],
   "source": [
    "# Calculate the average pageviews per day\n",
    "average_pageviews_per_day = total_pageviews / unique_dates"
   ]
  },
  {
   "cell_type": "code",
   "execution_count": 11,
   "id": "b190c1bd",
   "metadata": {},
   "outputs": [
    {
     "data": {
      "text/plain": [
       "32325.428571428572"
      ]
     },
     "execution_count": 11,
     "metadata": {},
     "output_type": "execute_result"
    }
   ],
   "source": [
    "average_pageviews_per_day"
   ]
  },
  {
   "cell_type": "markdown",
   "id": "25f43bf0",
   "metadata": {},
   "source": [
    "### 1. Total and Daily Pageview Events:\n",
    "* How many total pageview events did the links in the dataset receive during the entire period?"
   ]
  },
  {
   "cell_type": "code",
   "execution_count": 12,
   "id": "6bcb4e30",
   "metadata": {},
   "outputs": [
    {
     "data": {
      "text/plain": [
       "226278"
      ]
     },
     "execution_count": 12,
     "metadata": {},
     "output_type": "execute_result"
    }
   ],
   "source": [
    "total_pageviews"
   ]
  },
  {
   "cell_type": "markdown",
   "id": "899596e8",
   "metadata": {},
   "source": [
    "* What is the average number of pageview events per day?"
   ]
  },
  {
   "cell_type": "code",
   "execution_count": 13,
   "id": "8d411acc",
   "metadata": {},
   "outputs": [
    {
     "data": {
      "text/plain": [
       "32325.428571428572"
      ]
     },
     "execution_count": 13,
     "metadata": {},
     "output_type": "execute_result"
    }
   ],
   "source": [
    "average_pageviews_per_day"
   ]
  },
  {
   "cell_type": "markdown",
   "id": "96d5d0d0",
   "metadata": {},
   "source": [
    "### 2. Analysis of Other Events:\n",
    "* What is the total count and distribution of other recorded events in the dataset?"
   ]
  },
  {
   "cell_type": "code",
   "execution_count": 14,
   "id": "2e20d663",
   "metadata": {},
   "outputs": [
    {
     "data": {
      "text/plain": [
       "pageview    142015\n",
       "click        55732\n",
       "preview      28531\n",
       "Name: event, dtype: int64"
      ]
     },
     "execution_count": 14,
     "metadata": {},
     "output_type": "execute_result"
    }
   ],
   "source": [
    "# Count the occurrences of each event type\n",
    "event_counts = df['event'].value_counts()\n",
    "event_counts"
   ]
  },
  {
   "cell_type": "code",
   "execution_count": 15,
   "id": "455aabe6",
   "metadata": {},
   "outputs": [
    {
     "data": {
      "image/png": "[encoded data removed]",
      "text/plain": [
       "<Figure size 720x432 with 1 Axes>"
      ]
     },
     "metadata": {
      "needs_background": "light"
     },
     "output_type": "display_data"
    }
   ],
   "source": [
    "#plot the bar chart\n",
    "plt.figure(figsize=(10,6))\n",
    "event_counts.plot(kind='bar',color='skyblue')\n",
    "\n",
    "#Add title and labels\n",
    "plt.title(\"Total count of Events in the Dataset\")\n",
    "plt.xlabel('Event Type')\n",
    "plt.ylabel('Count')\n",
    "plt.xticks(rotation=0)\n",
    "plt.show()"
   ]
  },
  {
   "cell_type": "code",
   "execution_count": 16,
   "id": "e280d597",
   "metadata": {},
   "outputs": [
    {
     "data": {
      "text/plain": [
       "pageview    62.761294\n",
       "click       24.629880\n",
       "preview     12.608826\n",
       "Name: event, dtype: float64"
      ]
     },
     "execution_count": 16,
     "metadata": {},
     "output_type": "execute_result"
    }
   ],
   "source": [
    "# Calculate the distribution (as a percentage)\n",
    "event_distribution = event_counts / event_counts.sum() * 100\n",
    "event_distribution"
   ]
  },
  {
   "cell_type": "code",
   "execution_count": 17,
   "id": "0b09d698",
   "metadata": {},
   "outputs": [
    {
     "data": {
      "image/png": "[encoded data removed]",
      "text/plain": [
       "<Figure size 576x576 with 1 Axes>"
      ]
     },
     "metadata": {},
     "output_type": "display_data"
    }
   ],
   "source": [
    "# Plot the pie chart\n",
    "plt.figure(figsize=(8, 8))\n",
    "event_counts.plot(kind='pie', autopct='%1.1f%%', colors=['skyblue', 'lightgreen', 'coral'], startangle=140)\n",
    "\n",
    "# Add title\n",
    "plt.title('Distribution of Events in the Dataset')\n",
    "plt.ylabel('')  # Hide the y-label since it's not necessary for a pie chart\n",
    "plt.show()"
   ]
  },
  {
   "cell_type": "markdown",
   "id": "7dd11394",
   "metadata": {},
   "source": [
    "### 3. Geographical Distribution:\n",
    "* Which countries contributed to the pageviews?"
   ]
  },
  {
   "cell_type": "code",
   "execution_count": 18,
   "id": "df357db8",
   "metadata": {},
   "outputs": [
    {
     "data": {
      "text/plain": [
       "Saudi Arabia     47334\n",
       "India            42992\n",
       "United States    32558\n",
       "France           15661\n",
       "Iraq              8260\n",
       "                 ...  \n",
       "Samoa                2\n",
       "Macao                2\n",
       "Afghanistan          2\n",
       "Lesotho              1\n",
       "Sint Maarten         1\n",
       "Name: country, Length: 211, dtype: int64"
      ]
     },
     "execution_count": 18,
     "metadata": {},
     "output_type": "execute_result"
    }
   ],
   "source": [
    "country_counts = df['country'].value_counts()\n",
    "country_counts"
   ]
  },
  {
   "cell_type": "code",
   "execution_count": 19,
   "id": "4edee827",
   "metadata": {},
   "outputs": [
    {
     "data": {
      "image/png": "[encoded data removed]",
      "text/plain": [
       "<Figure size 720x432 with 1 Axes>"
      ]
     },
     "metadata": {
      "needs_background": "light"
     },
     "output_type": "display_data"
    }
   ],
   "source": [
    "# Count the occurrences of each country\n",
    "country_counts = df['country'].value_counts()\n",
    "\n",
    "# Plot the bar chart\n",
    "plt.figure(figsize=(10, 6))\n",
    "country_counts.plot(kind='bar', color='skyblue')\n",
    "\n",
    "# Add title and labels\n",
    "plt.title('Geographical Distribution of Pageviews by Country')\n",
    "plt.xlabel('Country')\n",
    "plt.ylabel('Number of Pageviews')\n",
    "plt.xticks(rotation=45)\n",
    "plt.show()"
   ]
  },
  {
   "cell_type": "markdown",
   "id": "f0925212",
   "metadata": {},
   "source": [
    "### 4.Click-Through Rate (CTR) Analysis:\n",
    "* What is the overall click-through rate (CTR) calculated as clicks/pageviews?\n",
    "* How does the CTR vary across different links?"
   ]
  },
  {
   "cell_type": "code",
   "execution_count": 20,
   "id": "3404b6d9",
   "metadata": {},
   "outputs": [
    {
     "data": {
      "text/plain": [
       "event         0\n",
       "date          0\n",
       "country      11\n",
       "city         11\n",
       "artist       37\n",
       "album         5\n",
       "track         5\n",
       "isrc       7121\n",
       "linkid        0\n",
       "dtype: int64"
      ]
     },
     "execution_count": 20,
     "metadata": {},
     "output_type": "execute_result"
    }
   ],
   "source": [
    "df.isna().sum()"
   ]
  },
  {
   "cell_type": "code",
   "execution_count": 21,
   "id": "d67e5e95",
   "metadata": {},
   "outputs": [],
   "source": [
    "# Encode the event column (you can use LabelEncoder from sklearn or map manually)\n",
    "df['event_code'] = df['event'].map({'click': 2, 'pageview': 1, 'preview': 0})"
   ]
  },
  {
   "cell_type": "code",
   "execution_count": 22,
   "id": "c760a097",
   "metadata": {},
   "outputs": [
    {
     "data": {
      "text/plain": [
       "39.24374185825441"
      ]
     },
     "execution_count": 22,
     "metadata": {},
     "output_type": "execute_result"
    }
   ],
   "source": [
    "# Separate clicks and pageviews\n",
    "clicks = df[df['event_code'] == 2].groupby('linkid').size()\n",
    "pageviews = df[df['event_code'] == 1].groupby('linkid').size()\n",
    "\n",
    "# Combine the counts into a DataFrame\n",
    "ctr_data = pd.DataFrame({'clicks': clicks, 'pageviews': pageviews}).fillna(0)\n",
    "\n",
    "# Convert to integers to avoid type issues\n",
    "ctr_data['clicks'] = ctr_data['clicks'].astype(int)\n",
    "ctr_data['pageviews'] = ctr_data['pageviews'].astype(int)\n",
    "\n",
    "# Calculate CTR for each link\n",
    "ctr_data['CTR (%)'] = (ctr_data['clicks'] / ctr_data['pageviews']) * 100\n",
    "\n",
    "# Calculate overall CTR\n",
    "overall_ctr = (ctr_data['clicks'].sum() / ctr_data['pageviews'].sum()) * 100\n",
    "\n",
    "# Display the result\n",
    "overall_ctr"
   ]
  },
  {
   "cell_type": "code",
   "execution_count": 23,
   "id": "7fbd1b02",
   "metadata": {},
   "outputs": [
    {
     "data": {
      "text/html": [
       "<div>\n",
       "<style scoped>\n",
       "    .dataframe tbody tr th:only-of-type {\n",
       "        vertical-align: middle;\n",
       "    }\n",
       "\n",
       "    .dataframe tbody tr th {\n",
       "        vertical-align: top;\n",
       "    }\n",
       "\n",
       "    .dataframe thead th {\n",
       "        text-align: right;\n",
       "    }\n",
       "</style>\n",
       "<table border=\"1\" class=\"dataframe\">\n",
       "  <thead>\n",
       "    <tr style=\"text-align: right;\">\n",
       "      <th></th>\n",
       "      <th>clicks</th>\n",
       "      <th>pageviews</th>\n",
       "      <th>CTR (%)</th>\n",
       "    </tr>\n",
       "    <tr>\n",
       "      <th>linkid</th>\n",
       "      <th></th>\n",
       "      <th></th>\n",
       "      <th></th>\n",
       "    </tr>\n",
       "  </thead>\n",
       "  <tbody>\n",
       "    <tr>\n",
       "      <th>00073307-ae96-5089-a117-4783afb42f8e</th>\n",
       "      <td>0</td>\n",
       "      <td>2</td>\n",
       "      <td>0.0</td>\n",
       "    </tr>\n",
       "    <tr>\n",
       "      <th>00126b32-0c35-507b-981c-02c80d2aa8e7</th>\n",
       "      <td>2</td>\n",
       "      <td>2</td>\n",
       "      <td>100.0</td>\n",
       "    </tr>\n",
       "    <tr>\n",
       "      <th>0018cfff-50a1-5984-9715-01ef2d11a49a</th>\n",
       "      <td>0</td>\n",
       "      <td>1</td>\n",
       "      <td>0.0</td>\n",
       "    </tr>\n",
       "    <tr>\n",
       "      <th>0033934b-5d16-5a06-af58-d087bcdd3680</th>\n",
       "      <td>0</td>\n",
       "      <td>1</td>\n",
       "      <td>0.0</td>\n",
       "    </tr>\n",
       "    <tr>\n",
       "      <th>0034d6cf-3bd8-5ffe-aafc-b3959fc48608</th>\n",
       "      <td>0</td>\n",
       "      <td>1</td>\n",
       "      <td>0.0</td>\n",
       "    </tr>\n",
       "    <tr>\n",
       "      <th>...</th>\n",
       "      <td>...</td>\n",
       "      <td>...</td>\n",
       "      <td>...</td>\n",
       "    </tr>\n",
       "    <tr>\n",
       "      <th>fff38ca0-8043-50cd-a5f1-f65ebb7105c5</th>\n",
       "      <td>1</td>\n",
       "      <td>1</td>\n",
       "      <td>100.0</td>\n",
       "    </tr>\n",
       "    <tr>\n",
       "      <th>fff4e5f0-4ee5-5fe7-aa30-e870edaf6ed7</th>\n",
       "      <td>0</td>\n",
       "      <td>2</td>\n",
       "      <td>0.0</td>\n",
       "    </tr>\n",
       "    <tr>\n",
       "      <th>fff84c0e-90a1-59d8-9997-adc909d50e16</th>\n",
       "      <td>1</td>\n",
       "      <td>1</td>\n",
       "      <td>100.0</td>\n",
       "    </tr>\n",
       "    <tr>\n",
       "      <th>fffc17a7-f935-5d3e-bd3e-d761fd80d479</th>\n",
       "      <td>1</td>\n",
       "      <td>2</td>\n",
       "      <td>50.0</td>\n",
       "    </tr>\n",
       "    <tr>\n",
       "      <th>fffd0045-29de-522b-b5d8-35786363bf07</th>\n",
       "      <td>1</td>\n",
       "      <td>2</td>\n",
       "      <td>50.0</td>\n",
       "    </tr>\n",
       "  </tbody>\n",
       "</table>\n",
       "<p>3839 rows × 3 columns</p>\n",
       "</div>"
      ],
      "text/plain": [
       "                                      clicks  pageviews  CTR (%)\n",
       "linkid                                                          \n",
       "00073307-ae96-5089-a117-4783afb42f8e       0          2      0.0\n",
       "00126b32-0c35-507b-981c-02c80d2aa8e7       2          2    100.0\n",
       "0018cfff-50a1-5984-9715-01ef2d11a49a       0          1      0.0\n",
       "0033934b-5d16-5a06-af58-d087bcdd3680       0          1      0.0\n",
       "0034d6cf-3bd8-5ffe-aafc-b3959fc48608       0          1      0.0\n",
       "...                                      ...        ...      ...\n",
       "fff38ca0-8043-50cd-a5f1-f65ebb7105c5       1          1    100.0\n",
       "fff4e5f0-4ee5-5fe7-aa30-e870edaf6ed7       0          2      0.0\n",
       "fff84c0e-90a1-59d8-9997-adc909d50e16       1          1    100.0\n",
       "fffc17a7-f935-5d3e-bd3e-d761fd80d479       1          2     50.0\n",
       "fffd0045-29de-522b-b5d8-35786363bf07       1          2     50.0\n",
       "\n",
       "[3839 rows x 3 columns]"
      ]
     },
     "execution_count": 23,
     "metadata": {},
     "output_type": "execute_result"
    }
   ],
   "source": [
    "ctr_data"
   ]
  },
  {
   "cell_type": "markdown",
   "id": "3beee313",
   "metadata": {},
   "source": [
    "### 5.Correlation Analysis:\n",
    "* Is there a correlation between clicks and previews on a link? If so, is it statistically significant, and how strong is the effect? Perform tests for both potential linear relationships and categorical (binary) relationships between these variables\n"
   ]
  },
  {
   "cell_type": "code",
   "execution_count": 24,
   "id": "0dacc733",
   "metadata": {},
   "outputs": [],
   "source": [
    "# Count the number of pageviews and clicks for each linkid\n",
    "link_counts = df.groupby('linkid')['event'].value_counts().unstack(fill_value=0)\n",
    "link_counts.columns = ['pageviews', 'clicks','']"
   ]
  },
  {
   "cell_type": "code",
   "execution_count": 25,
   "id": "02eb1aef",
   "metadata": {},
   "outputs": [],
   "source": [
    "# Count the number of pageviews and clicks for each linkid\n",
    "link_counts = df.groupby('linkid')['event'].value_counts().unstack(fill_value=0)"
   ]
  },
  {
   "cell_type": "code",
   "execution_count": 26,
   "id": "9b2a8e32",
   "metadata": {},
   "outputs": [],
   "source": [
    "# Ensure the DataFrame has the correct column names\n",
    "if 'pageview' not in link_counts.columns:\n",
    "    link_counts['pageview'] = 0\n",
    "if 'click' not in link_counts.columns:\n",
    "    link_counts['click'] = 0\n",
    "if 'preview' not in link_counts.columns:\n",
    "    link_counts['preview'] = 0\n",
    "\n",
    "# Rename columns for clarity\n",
    "link_counts.columns = ['clicks', 'pageviews', 'previews']"
   ]
  },
  {
   "cell_type": "code",
   "execution_count": 27,
   "id": "1235bd3e",
   "metadata": {},
   "outputs": [
    {
     "name": "stdout",
     "output_type": "stream",
     "text": [
      "Pearson's correlation coefficient: 0.9886586274883711\n",
      "P-value (linear): 0.0\n"
     ]
    }
   ],
   "source": [
    "from scipy.stats import pearsonr, chi2_contingency\n",
    "# Calculate Pearson's correlation coefficient between clicks and previews\n",
    "corr, p_value_linear = pearsonr(link_counts['clicks'], link_counts['previews'])\n",
    "print(f\"Pearson's correlation coefficient: {corr}\")\n",
    "print(f\"P-value (linear): {p_value_linear}\")"
   ]
  },
  {
   "cell_type": "code",
   "execution_count": 28,
   "id": "ba7898bc",
   "metadata": {},
   "outputs": [],
   "source": [
    "# Create a binary variable for previews\n",
    "link_counts['preview_binary'] = np.where(link_counts['previews'] > 0, 1, 0)"
   ]
  },
  {
   "cell_type": "code",
   "execution_count": 29,
   "id": "36329ea7",
   "metadata": {},
   "outputs": [],
   "source": [
    "# Create a contingency table for categorical relationship\n",
    "contingency_table = pd.crosstab(link_counts['preview_binary'], link_counts['clicks'] > 0)"
   ]
  },
  {
   "cell_type": "code",
   "execution_count": 30,
   "id": "5174e5e3",
   "metadata": {},
   "outputs": [
    {
     "name": "stdout",
     "output_type": "stream",
     "text": [
      "Chi-Square statistic: 285.5422869728454\n",
      "P-value (categorical): 4.6545446319002726e-64\n"
     ]
    }
   ],
   "source": [
    "# Perform Chi-Square test\n",
    "chi2_stat, p_value_chi2, dof, expected = chi2_contingency(contingency_table)\n",
    "print(f\"Chi-Square statistic: {chi2_stat}\")\n",
    "print(f\"P-value (categorical): {p_value_chi2}\")"
   ]
  },
  {
   "cell_type": "code",
   "execution_count": 31,
   "id": "02e1e680",
   "metadata": {},
   "outputs": [
    {
     "name": "stdout",
     "output_type": "stream",
     "text": [
      "\n",
      "Contingency Table:\n",
      "clicks          False  True\n",
      "preview_binary             \n",
      "0                1553  1791\n",
      "1                  31   464\n"
     ]
    }
   ],
   "source": [
    "# Display contingency table\n",
    "print(\"\\nContingency Table:\")\n",
    "print(contingency_table)"
   ]
  },
  {
   "cell_type": "code",
   "execution_count": null,
   "id": "ee8c510b",
   "metadata": {},
   "outputs": [],
   "source": []
  },
  {
   "cell_type": "code",
   "execution_count": null,
   "id": "58ce8bb1",
   "metadata": {},
   "outputs": [],
   "source": []
  }
 ],
 "metadata": {
  "kernelspec": {
   "display_name": "Python 3 (ipykernel)",
   "language": "python",
   "name": "python3"
  },
  "language_info": {
   "codemirror_mode": {
    "name": "ipython",
    "version": 3
   },
   "file_extension": ".py",
   "mimetype": "text/x-python",
   "name": "python",
   "nbconvert_exporter": "python",
   "pygments_lexer": "ipython3",
   "version": "3.9.12"
  }
 },
 "nbformat": 4,
 "nbformat_minor": 5
}
